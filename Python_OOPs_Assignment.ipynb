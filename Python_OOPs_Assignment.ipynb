{
  "nbformat": 4,
  "nbformat_minor": 0,
  "metadata": {
    "colab": {
      "provenance": []
    },
    "kernelspec": {
      "name": "python3",
      "display_name": "Python 3"
    },
    "language_info": {
      "name": "python"
    }
  },
  "cells": [
    {
      "cell_type": "markdown",
      "source": [
        "#Python OOPs"
      ],
      "metadata": {
        "id": "2P_GO1AEgyN6"
      }
    },
    {
      "cell_type": "markdown",
      "source": [
        "#Theory:-"
      ],
      "metadata": {
        "id": "0_zGwq_Og2Jz"
      }
    },
    {
      "cell_type": "markdown",
      "source": [
        "1. What is Object-Oriented Programming (OOP)?\n",
        " - Object-Oriented Programming (OOP) is a programming model that organizes code around objects, which represent real-world entities. These objects have attributes (data) and methods (functions) that define their behavior. OOP promotes concepts like:\n",
        "\n",
        "   a. Encapsulation: Bundling data and methods together within objects.\n",
        "\n",
        "   b. Inheritance: Creating new classes based on existing ones to reuse and extend functionality.\n",
        "\n",
        "   c. Polymorphism: Allowing methods to behave differently based on the object invoking them.\n",
        "\n",
        "   d. Abstraction: Hiding complex details and exposing only essential features.\n",
        "\n",
        "   OOP makes code more modular, reusable, and easier to maintain.\n",
        "\n",
        "2. What is a class in OOP?\n",
        " - A class in Object-Oriented Programming (OOP) is a blueprint or template for creating objects. It defines the attributes (properties) and methods (functions) that the objects created from it will have. For example, a Car class can define attributes like color and model and methods like start() or stop(). Objects are instances of classes.\n",
        "\n",
        "3. What is an object in OOP?\n",
        " - An object in Object-Oriented Programming (OOP) is an instance of a class. It represents a specific entity with its own attributes (data) and methods (behavior) as defined by its class. For example, if Car is a class, an object could be a specific car like a red Toyota Corolla with its own properties and actions.\n",
        "\n",
        "4. What is the difference between abstraction and encapsulation?\n",
        " - Abstraction and Encapsulation are key concepts in OOP but differ in focus:\n",
        "\n",
        "   a. Abstraction:\n",
        "\n",
        "    -Focuses on hiding complexity and showing only essential details to the user.\n",
        "\n",
        "    -Example: Using a car's steering wheel without needing to understand how the engine works.\n",
        "\n",
        "    -Achieved through abstract classes and interfaces.\n",
        "\n",
        "   b. Encapsulation:\n",
        "\n",
        "    -Focuses on hiding data and controlling access to it through methods (getters and setters).\n",
        "\n",
        "    -Example: The car's engine is hidden, and you interact with it through a start/stop button.\n",
        "\n",
        "    -Achieved by using private fields and public methods.\n",
        "\n",
        "  In short, abstraction is about \"what\" to expose, and encapsulation is about \"how\" to protect.\n",
        "\n",
        "5. What are dunder methods in Python?\n",
        " - Dunder methods (short for \"double underscore methods\") in Python, also called magic methods or special methods, are predefined methods with names surrounded by double underscores (e.g., __init__, __str__). They allow customization of Python's built-in operations for objects.\n",
        "\n",
        "   -Examples:\n",
        "\n",
        "   a. __init__: Initializes a new object (constructor).\n",
        "\n",
        "   b. __str__: Defines how the object is represented as a string.\n",
        "\n",
        "   c. __add__: Defines behavior for the + operator.\n",
        "\n",
        "   d. __len__: Specifies behavior for len() function.\n",
        "\n",
        "  These methods make objects behave like built-in data types in Python.\n",
        "\n",
        "6. Explain the concept of inheritance in OOP.\n",
        " - Inheritance in Object-Oriented Programming (OOP) is a mechanism where a class (called a child class or subclass) can inherit attributes and methods from another class (called a parent class or superclass). It promotes code reuse and establishes a relationship between classes.\n",
        "\n",
        "   a. Parent Class: The class being inherited from.\n",
        "\n",
        "   b. Child Class: The class that inherits the properties and methods of the parent class.\n",
        "\n",
        "   c. Types:\n",
        "\n",
        "    -Single Inheritance: One child inherits from one parent.\n",
        "    \n",
        "    -Multiple Inheritance: A child inherits from multiple parents."
      ],
      "metadata": {
        "id": "8e0MFZZ5g6lN"
      }
    },
    {
      "cell_type": "code",
      "source": [
        "#Example:-\n",
        "class Animal:\n",
        "    def speak(self):\n",
        "        print(\"I am an animal.\")\n",
        "\n",
        "class Dog(Animal):\n",
        "    def speak(self):\n",
        "        print(\"I am a dog.\")\n",
        "\n",
        "d = Dog()\n",
        "d.speak()\n"
      ],
      "metadata": {
        "id": "PQskABq7k58C",
        "colab": {
          "base_uri": "https://localhost:8080/"
        },
        "outputId": "53b17961-a397-4507-fe06-1309248e5d61"
      },
      "execution_count": 84,
      "outputs": [
        {
          "output_type": "stream",
          "name": "stdout",
          "text": [
            "I am a dog.\n"
          ]
        }
      ]
    },
    {
      "cell_type": "markdown",
      "source": [
        "7. What is polymorphism in OOP?\n",
        " - Polymorphism in Object-Oriented Programming (OOP) is the ability of objects to take on multiple forms, allowing the same method or operation to behave differently depending on the object invoking it. It promotes flexibility and reusability in code.\n",
        "\n",
        "    -Types:\n",
        "\n",
        "   a. Method Overriding: A subclass provides a specific implementation of a method from the parent class.\n",
        "\n",
        "   b. Method Overloading (not directly supported in Python): Multiple methods with the same name but different parameters (simulated in Python using default arguments).\n",
        "\n",
        "   c. Operator Overloading: Defining custom behavior for operators (e.g., +, *) using dunder methods like __add__."
      ],
      "metadata": {
        "id": "i-0hDXBtlG_j"
      }
    },
    {
      "cell_type": "code",
      "source": [
        "#example:-\n",
        "class Animal:\n",
        "    def speak(self):\n",
        "        print(\"Animal speaks.\")\n",
        "\n",
        "class Dog(Animal):\n",
        "    def speak(self):\n",
        "        print(\"Dog barks.\")\n",
        "\n",
        "class Cat(Animal):\n",
        "    def speak(self):\n",
        "        print(\"Cat meows.\")\n",
        "\n",
        "animals = [Dog(), Cat()]\n",
        "for animal in animals:\n",
        "    animal.speak()\n"
      ],
      "metadata": {
        "id": "3Ya2F6nsmyRu",
        "colab": {
          "base_uri": "https://localhost:8080/"
        },
        "outputId": "e14fb121-1420-42d5-ba79-c624f8f40267"
      },
      "execution_count": 85,
      "outputs": [
        {
          "output_type": "stream",
          "name": "stdout",
          "text": [
            "Dog barks.\n",
            "Cat meows.\n"
          ]
        }
      ]
    },
    {
      "cell_type": "markdown",
      "source": [
        "8. How is encapsulation achieved in Python?\n",
        " - Encapsulation in Python is achieved by restricting access to certain details of an object's implementation. This is done using:\n",
        "\n",
        "   a. Private variables/methods: Prefixing attributes or methods with double underscores (__) makes them private, preventing direct access from outside the class.\n",
        "\n",
        "   b. Property decorators: Using @property to create getter and setter methods allows controlled access to private attributes.\n",
        "\n",
        "   c. Access control: Single underscore (_) is a convention indicating that an attribute or method is intended for internal use, though it's not enforced by Python.\n",
        "\n",
        "  Encapsulation promotes modularity, hiding implementation details, and controlling how data is accessed or modified.\n",
        "\n",
        "9. What is a constructor in Python?\n",
        " - A constructor in Python is a special method used to initialize objects of a class. It is defined using the __init__() method. When a new object is created, the __init__() method is automatically called to set up the object's initial state (i.e., assign values to its attributes)."
      ],
      "metadata": {
        "id": "TuoMRBGgm6Mf"
      }
    },
    {
      "cell_type": "code",
      "source": [
        "#example:-\n",
        "class MyClass:\n",
        "    def __init__(self, value):\n",
        "        self.value = value\n",
        "\n",
        "obj = MyClass(10)  # __init__ is called to initialize obj\n"
      ],
      "metadata": {
        "id": "J3vSYWfvn4eN"
      },
      "execution_count": 86,
      "outputs": []
    },
    {
      "cell_type": "markdown",
      "source": [
        "10.  What are class and static methods in Python?\n",
        " - In Python:\n",
        "\n",
        "   a. Class method: A method that operates on the class itself, not on individual instances. It takes cls as its first parameter.\n",
        "\n",
        "    -Defined with @classmethod.\n",
        "\n",
        "   b. Static method: A method that doesn't depend on the class or instance. It behaves like a regular function but belongs to the class.\n",
        "\n",
        "    -Defined with @staticmethod.\n",
        "\n",
        "   Both are used for different purposes but don't require an instance to be called.  \n",
        "\n",
        "11. What is method overloading in Python?\n",
        " - Method overloading in Python refers to defining multiple methods with the same name but different parameters. However, Python does not support traditional method overloading like some other languages. Instead, you can achieve similar behavior by using default arguments or variable-length argument lists (*args or **kwargs) to handle different numbers of arguments in a method."
      ],
      "metadata": {
        "id": "sWeL58DgoB2V"
      }
    },
    {
      "cell_type": "code",
      "source": [
        "#example:-\n",
        "class MyClass:\n",
        "    def greet(self, name=\"Guest\"):\n",
        "        print(f\"Hello, {name}!\")\n",
        "\n",
        "obj = MyClass()\n",
        "obj.greet()\n",
        "obj.greet(\"Mantasha\")"
      ],
      "metadata": {
        "colab": {
          "base_uri": "https://localhost:8080/"
        },
        "id": "jAD4yeJ_s1l8",
        "outputId": "78eb2277-403e-4e3c-93dc-fd0a6ce85fa3"
      },
      "execution_count": 129,
      "outputs": [
        {
          "output_type": "stream",
          "name": "stdout",
          "text": [
            "Hello, Guest!\n",
            "Hello, Mantasha!\n"
          ]
        }
      ]
    },
    {
      "cell_type": "markdown",
      "source": [
        "12. What is method overriding in OOP?\n",
        " - Method overriding in Object-Oriented Programming (OOP) is when a subclass provides its own implementation of a method that is already defined in its superclass. This allows the subclass to modify or extend the behavior of the inherited method.\n",
        "\n",
        "     In Python, method overriding is done by defining a method in the subclass with the same name as the method in the superclass."
      ],
      "metadata": {
        "id": "Ttg5OZWqtA7E"
      }
    },
    {
      "cell_type": "code",
      "source": [
        "#example:-\n",
        "class Animal:\n",
        "    def speak(self):\n",
        "        print(\"Animal speaks\")\n",
        "\n",
        "class Dog(Animal):\n",
        "    def speak(self):\n",
        "        print(\"Dog barks\")\n",
        "\n",
        "obj = Dog()\n",
        "obj.speak()\n"
      ],
      "metadata": {
        "id": "aWpMSVKnt2if",
        "colab": {
          "base_uri": "https://localhost:8080/"
        },
        "outputId": "eb762af8-3bca-4294-c69b-824b7a6a17cb"
      },
      "execution_count": 88,
      "outputs": [
        {
          "output_type": "stream",
          "name": "stdout",
          "text": [
            "Dog barks\n"
          ]
        }
      ]
    },
    {
      "cell_type": "markdown",
      "source": [
        "13. What is a property decorator in Python?\n",
        " - The @property decorator in Python is used to define a method as a \"getter\" for an attribute. It allows you to access a method like an attribute without explicitly calling it as a function. This is useful for controlled access to private or internal attributes.\n",
        "\n",
        "     It can also be used in combination with @setter to define a method for setting the value of a property."
      ],
      "metadata": {
        "id": "AbFZNarqt7q7"
      }
    },
    {
      "cell_type": "code",
      "source": [
        "#example:-\n",
        "class MyClass:\n",
        "    def __init__(self, value):\n",
        "        self._value = value\n",
        "\n",
        "    @property\n",
        "    def value(self):\n",
        "        return self._value\n",
        "\n",
        "    @value.setter\n",
        "    def value(self, new_value):\n",
        "        if new_value > 0:\n",
        "            self._value = new_value\n",
        "        else:\n",
        "            print(\"Value must be positive.\")\n",
        "\n",
        "obj = MyClass(10)\n",
        "print(obj.value)  # Access like an attribute\n",
        "obj.value = 20    # Setting using the setter\n"
      ],
      "metadata": {
        "id": "XYl9f7ubuQRZ",
        "colab": {
          "base_uri": "https://localhost:8080/"
        },
        "outputId": "d8007386-3f84-4fd5-931c-01981c65e640"
      },
      "execution_count": 89,
      "outputs": [
        {
          "output_type": "stream",
          "name": "stdout",
          "text": [
            "10\n"
          ]
        }
      ]
    },
    {
      "cell_type": "markdown",
      "source": [
        "14. F Why is polymorphism important in OOP?\n",
        " - Polymorphism in OOP allows objects of different classes to be treated as objects of a common superclass, enabling a single interface to work with different types. This promotes flexibility and scalability in the code, as the same method or function can operate on different types of objects.\n",
        "\n",
        "     Key benefits of polymorphism:\n",
        "\n",
        "     a. Code Reusability: The same method can be reused for different classes.\n",
        "\n",
        "     b. Maintainability: It simplifies code maintenance and extension by\n",
        "     allowing changes without affecting other parts of the system.\n",
        "\n",
        "     c. Flexibility: You can write more generic and flexible code that works with different data types or objects.\n",
        "\n"
      ],
      "metadata": {
        "id": "bbrq96GcuVhS"
      }
    },
    {
      "cell_type": "code",
      "source": [
        "#example:-\n",
        "class Animal:\n",
        "    def speak(self):\n",
        "        pass\n",
        "\n",
        "class Dog(Animal):\n",
        "    def speak(self):\n",
        "        return \"Bark\"\n",
        "\n",
        "class Cat(Animal):\n",
        "    def speak(self):\n",
        "        return \"Meow\"\n",
        "\n",
        "def animal_sound(animal: Animal):\n",
        "    print(animal.speak())\n",
        "\n",
        "dog = Dog()\n",
        "cat = Cat()\n",
        "\n",
        "animal_sound(dog)\n",
        "animal_sound(cat)\n"
      ],
      "metadata": {
        "id": "1BtlhkS0u0u8",
        "colab": {
          "base_uri": "https://localhost:8080/"
        },
        "outputId": "a3b96d61-dda0-4c76-f3b7-2b84ecd33821"
      },
      "execution_count": 130,
      "outputs": [
        {
          "output_type": "stream",
          "name": "stdout",
          "text": [
            "Bark\n",
            "Meow\n"
          ]
        }
      ]
    },
    {
      "cell_type": "markdown",
      "source": [
        "15. What is an abstract class in Python?\n",
        " - An abstract class in Python is a class that cannot be instantiated directly and is meant to be subclassed by other classes. It defines abstract methods (methods without implementation) that must be implemented by subclasses.\n",
        "\n",
        "     Abstract classes are defined using the abc module (Abstract Base Class). A class becomes abstract by inheriting from ABC and using the @abstractmethod decorator for methods that must be overridden"
      ],
      "metadata": {
        "id": "3KgZc8JKu6LX"
      }
    },
    {
      "cell_type": "code",
      "source": [
        "#example:-\n",
        "from abc import ABC, abstractmethod\n",
        "\n",
        "class Animal(ABC):\n",
        "    @abstractmethod\n",
        "    def speak(self):\n",
        "        pass\n",
        "\n",
        "class Dog(Animal):\n",
        "    def speak(self):\n",
        "        print(\"Bark\")\n",
        "\n",
        "# animal = Animal()  # This would raise an error\n",
        "dog = Dog()\n",
        "dog.speak()\n"
      ],
      "metadata": {
        "id": "GW3QBNDZvH91",
        "colab": {
          "base_uri": "https://localhost:8080/"
        },
        "outputId": "3f866585-d341-463c-d421-d577bfc9eb51"
      },
      "execution_count": 131,
      "outputs": [
        {
          "output_type": "stream",
          "name": "stdout",
          "text": [
            "Bark\n"
          ]
        }
      ]
    },
    {
      "cell_type": "markdown",
      "source": [
        "16. What are the advantages of OOP?\n",
        " - The advantages of Object-Oriented Programming (OOP) include:\n",
        "\n",
        "   a. Modularity: Code is organized into objects (classes), which makes it easier to manage and maintain.\n",
        "\n",
        "   b. Reusability: Through inheritance and polymorphism, code can be reused across different parts of a program or in different programs.\n",
        "\n",
        "   c. Maintainability: Encapsulation allows for hiding implementation details and provides a clear interface, making it easier to modify and maintain the code.\n",
        "\n",
        "   d. Abstraction: OOP allows for focusing on high-level functionalities by hiding complex implementation details.\n",
        "\n",
        "   e. Flexibility and Extensibility: Through inheritance and polymorphism, OOP allows for easy extension and modification of existing code without affecting other parts of the system.\n",
        "\n",
        "   f. Scalability: OOP facilitates building large, complex systems by breaking them down into smaller, manageable objects and classes.\n",
        "\n",
        "17. What is the difference between a class variable and an instance variable?\n",
        " - The difference between a class variable and an instance variable in Python:\n",
        "\n",
        "    a. Class Variable:\n",
        "\n",
        "      -Defined inside the class but outside any method.\n",
        "\n",
        "      -Shared by all instances of the class.\n",
        "\n",
        "      -Can be accessed using the class name or instance."
      ],
      "metadata": {
        "id": "-8a7ypePvXyN"
      }
    },
    {
      "cell_type": "code",
      "source": [
        "#example:-\n",
        "class MyClass:\n",
        "    class_variable = 0  # Class variable\n",
        "\n",
        "obj1 = MyClass()\n",
        "obj2 = MyClass()\n",
        "print(obj1.class_variable)  # Access via instance\n",
        "print(MyClass.class_variable)  # Access via class\n"
      ],
      "metadata": {
        "id": "7zhWExo-wwtN",
        "colab": {
          "base_uri": "https://localhost:8080/"
        },
        "outputId": "b7904531-4c82-4d2c-f26c-e1fd96a0eb8e"
      },
      "execution_count": 92,
      "outputs": [
        {
          "output_type": "stream",
          "name": "stdout",
          "text": [
            "0\n",
            "0\n"
          ]
        }
      ]
    },
    {
      "cell_type": "markdown",
      "source": [
        "  b. Instance Variable:\n",
        "\n",
        "    -Defined inside methods (typically in __init__).\n",
        "\n",
        "    -Unique to each instance of the class.\n",
        "\n",
        "    -Can only be accessed using the instance."
      ],
      "metadata": {
        "id": "tjAIDAs6xqAd"
      }
    },
    {
      "cell_type": "code",
      "source": [
        "#example:-\n",
        "class MyClass:\n",
        "    def __init__(self, value):\n",
        "        self.instance_variable = value  # Instance variable\n",
        "\n",
        "obj1 = MyClass(20)\n",
        "obj2 = MyClass(30)\n",
        "print(obj1.instance_variable)  # Access specific to obj1\n",
        "print(obj2.instance_variable)  # Access specific to obj2\n"
      ],
      "metadata": {
        "id": "UlRKvUBZxQJY",
        "colab": {
          "base_uri": "https://localhost:8080/"
        },
        "outputId": "9661579a-ec39-4228-883f-9217bc8f4fab"
      },
      "execution_count": 132,
      "outputs": [
        {
          "output_type": "stream",
          "name": "stdout",
          "text": [
            "20\n",
            "30\n"
          ]
        }
      ]
    },
    {
      "cell_type": "markdown",
      "source": [
        "18. What is multiple inheritance in Python?\n",
        " - Multiple inheritance in Python is a feature where a class can inherit attributes and methods from more than one parent class. This allows a class to combine functionalities from multiple base classes.\n",
        "\n",
        "     In the below example, ClassC inherits from both ClassA and ClassB, allowing it to access methods from both parent classes.\n",
        "\n",
        "     Advantages: It promotes code reusability and allows the creation of more complex behaviors by combining different classes."
      ],
      "metadata": {
        "id": "U36IpvTOxUpQ"
      }
    },
    {
      "cell_type": "code",
      "source": [
        "#example:-\n",
        "class ClassA:\n",
        "    def methodA(self):\n",
        "        print(\"Method from ClassA\")\n",
        "\n",
        "class ClassB:\n",
        "    def methodB(self):\n",
        "        print(\"Method from ClassB\")\n",
        "\n",
        "class ClassC(ClassA, ClassB):\n",
        "    def methodC(self):\n",
        "        print(\"Method from ClassC\")\n",
        "\n",
        "obj = ClassC()\n",
        "obj.methodA()  # Inherited from ClassA\n",
        "obj.methodB()  # Inherited from ClassB\n",
        "obj.methodC()  # Defined in ClassC\n"
      ],
      "metadata": {
        "id": "76cX2_pLyAH_",
        "colab": {
          "base_uri": "https://localhost:8080/"
        },
        "outputId": "f6eee016-1fac-4abf-9dd0-c8124f16a6e2"
      },
      "execution_count": 94,
      "outputs": [
        {
          "output_type": "stream",
          "name": "stdout",
          "text": [
            "Method from ClassA\n",
            "Method from ClassB\n",
            "Method from ClassC\n"
          ]
        }
      ]
    },
    {
      "cell_type": "markdown",
      "source": [
        "19. Explain the purpose of ‘’__str__’ and ‘__repr__’ ‘ methods in Python.\n",
        " - In Python:\n",
        "\n",
        "    a. __str__():\n",
        "\n",
        "     -Purpose: Returns a user-friendly or readable string representation of an object.\n",
        "\n",
        "     -Used by the print() function and str() to represent the object as a string.\n",
        "\n",
        "     -Designed for readability when displaying an object.\n",
        "\n",
        "    b. __repr__():\n",
        "\n",
        "     -Purpose: Returns a string that ideally can be used to recreate the object (i.e., a more precise or unambiguous representation).\n",
        "\n",
        "     -Used by the repr() function and in the interactive interpreter.\n",
        "\n",
        "     -Designed for debugging or logging, providing a more formal string representation."
      ],
      "metadata": {
        "id": "rl5YJjiZyEPi"
      }
    },
    {
      "cell_type": "code",
      "source": [
        "#example for (__str__) :-\n",
        "\n",
        "class MyClass:\n",
        "    def __str__(self):\n",
        "        return \"This is MyClass object\"\n",
        "\n",
        "obj = MyClass()\n",
        "print(obj)\n"
      ],
      "metadata": {
        "id": "JOeQFQwyy5IZ",
        "colab": {
          "base_uri": "https://localhost:8080/"
        },
        "outputId": "2c4be1a8-4ffe-467a-be20-bcbf09769287"
      },
      "execution_count": 133,
      "outputs": [
        {
          "output_type": "stream",
          "name": "stdout",
          "text": [
            "This is MyClass object\n"
          ]
        }
      ]
    },
    {
      "cell_type": "code",
      "source": [
        "#example for (__repr__) :-\n",
        "class MyClass:\n",
        "    def __repr__(self):\n",
        "        return \"MyClass()\"\n",
        "\n",
        "obj = MyClass()\n",
        "print(repr(obj))\n"
      ],
      "metadata": {
        "id": "cnP7IG1OzGzd",
        "colab": {
          "base_uri": "https://localhost:8080/"
        },
        "outputId": "6c3137d7-5606-4de2-e0da-aeccdcda9d97"
      },
      "execution_count": 134,
      "outputs": [
        {
          "output_type": "stream",
          "name": "stdout",
          "text": [
            "MyClass()\n"
          ]
        }
      ]
    },
    {
      "cell_type": "markdown",
      "source": [
        "20. What is the significance of the ‘super()’ function in Python?\n",
        " - The super() function in Python is used to call methods from a parent (super) class in a subclass. It allows a subclass to invoke a method or access attributes of its superclass without explicitly referring to the superclass by name. This is particularly useful in cases of inheritance and method overriding.\n",
        "\n",
        "    Key points:\n",
        "\n",
        "    -Helps in calling the parent class's constructor (__init__()).\n",
        "\n",
        "    -Enables access to overridden methods in the parent class.\n",
        "\n",
        "    -Simplifies multiple inheritance scenarios by following the Method Resolution Order (MRO)."
      ],
      "metadata": {
        "id": "bOTQxcYvzPoh"
      }
    },
    {
      "cell_type": "code",
      "source": [
        "#Example:-\n",
        "class Animal:\n",
        "    def speak(self):\n",
        "        print(\"Animal speaks\")\n",
        "\n",
        "class Dog(Animal):\n",
        "    def speak(self):\n",
        "        super().speak()  # Calls the speak method from the parent class\n",
        "        print(\"Dog barks\")\n",
        "\n",
        "dog = Dog()\n",
        "dog.speak()\n"
      ],
      "metadata": {
        "id": "YMLrfGLvz9iT",
        "colab": {
          "base_uri": "https://localhost:8080/"
        },
        "outputId": "f5bb5a7b-74a3-4b7a-f6df-20a6c7390f7b"
      },
      "execution_count": 136,
      "outputs": [
        {
          "output_type": "stream",
          "name": "stdout",
          "text": [
            "Animal speaks\n",
            "Dog barks\n"
          ]
        }
      ]
    },
    {
      "cell_type": "markdown",
      "source": [
        "21. What is the significance of the __del__ method in Python?\n",
        " - The __del__ method in Python is a special method used for destruction or cleanup of an object when it is about to be destroyed or removed from memory. It is the destructor method, and it is called when an object is garbage collected.\n",
        "\n",
        "    Significance:\n",
        "\n",
        "    -Used to release resources such as file handles, network connections, or other external resources that need to be cleaned up before the object is deleted.\n",
        "    \n",
        "    -The __del__ method is automatically called when the object's reference count reaches zero, or it goes out of scope."
      ],
      "metadata": {
        "id": "L3v-NRIt0B1s"
      }
    },
    {
      "cell_type": "code",
      "source": [
        "#example:-\n",
        "class MyClass:\n",
        "    def __del__(self):\n",
        "        print(\"Object is being destroyed\")\n",
        "\n",
        "obj = MyClass()\n",
        "del obj\n"
      ],
      "metadata": {
        "id": "WA-3ixnq0TH4",
        "colab": {
          "base_uri": "https://localhost:8080/"
        },
        "outputId": "d5e59b0b-857e-41d1-c430-4341d457a460"
      },
      "execution_count": 137,
      "outputs": [
        {
          "output_type": "stream",
          "name": "stdout",
          "text": [
            "Object is being destroyed\n"
          ]
        }
      ]
    },
    {
      "cell_type": "markdown",
      "source": [
        "22. What is the difference between @staticmethod and @classmethod in Python?\n",
        " - The difference between @staticmethod and @classmethod in Python:\n",
        "\n",
        "    @staticmethod:\n",
        "\n",
        "    -Doesn't take self or cls as the first parameter.\n",
        "\n",
        "    -Doesn't access or modify class or instance data.\n",
        "\n",
        "    -Behaves like a regular function within the class.\n",
        "\n",
        "    @classmethod:\n",
        "\n",
        "    -Takes cls as the first parameter, referring to the class.\n",
        "\n",
        "    -Can access and modify class-level data.\n",
        "\n",
        "  In short: @staticmethod doesn't work with the class or instance, while @classmethod works with the class.\n",
        "\n",
        "23. How does polymorphism work in Python with inheritance?\n",
        " - In Python, polymorphism with inheritance allows a subclass to provide its own implementation of a method that is defined in its superclass. This means that a single method name can behave differently based on the object’s class type, enabling a uniform interface for different types of objects.\n",
        "\n",
        "    It's working:\n",
        "\n",
        "    -A method in the superclass is overridden by a method in the subclass.\n",
        "\n",
        "    -The subclass method is called based on the actual object type, even if it's referenced by the superclass type."
      ],
      "metadata": {
        "id": "Yko1YHx90WPv"
      }
    },
    {
      "cell_type": "code",
      "source": [
        "#example:-\n",
        "class Animal:\n",
        "    def speak(self):\n",
        "        print(\"Animal speaks\")\n",
        "\n",
        "class Dog(Animal):\n",
        "    def speak(self):\n",
        "        print(\"Dog barks\")\n",
        "\n",
        "class Cat(Animal):\n",
        "    def speak(self):\n",
        "        print(\"Cat meows\")\n",
        "\n",
        "def animal_sound(animal):\n",
        "    animal.speak()\n",
        "\n",
        "# Polymorphism in action\n",
        "dog = Dog()\n",
        "cat = Cat()\n",
        "\n",
        "animal_sound(dog)\n",
        "animal_sound(cat)\n"
      ],
      "metadata": {
        "id": "7KOhAVAr1dP8",
        "colab": {
          "base_uri": "https://localhost:8080/"
        },
        "outputId": "3616d9b5-d3ed-44bb-c2d7-52cb183c5b34"
      },
      "execution_count": 138,
      "outputs": [
        {
          "output_type": "stream",
          "name": "stdout",
          "text": [
            "Dog barks\n",
            "Cat meows\n"
          ]
        }
      ]
    },
    {
      "cell_type": "markdown",
      "source": [
        "24. What is method chaining in Python OOP?\n",
        " - Method chaining in Python OOP refers to the technique of calling multiple methods on the same object in a single statement. Each method returns the object itself (usually by returning self), allowing further method calls to be chained together."
      ],
      "metadata": {
        "id": "_YhoS6PE1iau"
      }
    },
    {
      "cell_type": "code",
      "source": [
        "#example:-\n",
        "class Calculator:\n",
        "    def __init__(self, value=0):\n",
        "        self.value = value\n",
        "\n",
        "    def add(self, num):\n",
        "        self.value += num\n",
        "        return self\n",
        "\n",
        "    def multiply(self, num):\n",
        "        self.value *= num\n",
        "        return self\n",
        "\n",
        "    def result(self):\n",
        "        return self.value\n",
        "\n",
        "calc = Calculator()\n",
        "print(calc.add(5).multiply(2).result())\n"
      ],
      "metadata": {
        "id": "o-_-p9mJ1u9Q",
        "colab": {
          "base_uri": "https://localhost:8080/"
        },
        "outputId": "9463c39a-5300-4223-fc05-17215b2c3dbf"
      },
      "execution_count": 139,
      "outputs": [
        {
          "output_type": "stream",
          "name": "stdout",
          "text": [
            "10\n"
          ]
        }
      ]
    },
    {
      "cell_type": "markdown",
      "source": [
        "25. What is the purpose of the __call__ method in Python?\n",
        " - The __call__ method in Python allows an instance of a class to be called as if it were a function. When an object with a __call__ method is called, this method is invoked, enabling the object to behave like a callable function.\n",
        "\n",
        "    Purpose: It allows objects to be used in a function-like manner, which is useful in cases where the behavior of an object needs to be customized or dynamically changed."
      ],
      "metadata": {
        "id": "iu8GWp5G1yqM"
      }
    },
    {
      "cell_type": "code",
      "source": [
        "#example:-\n",
        "class MyCallable:\n",
        "    def __call__(self, x):\n",
        "        return x * 2\n",
        "\n",
        "obj = MyCallable()\n",
        "print(obj(5))"
      ],
      "metadata": {
        "id": "MVcg9JKJ2Esv",
        "colab": {
          "base_uri": "https://localhost:8080/"
        },
        "outputId": "dc3a1650-ffe2-4857-af1b-65b8ef5c701c"
      },
      "execution_count": 140,
      "outputs": [
        {
          "output_type": "stream",
          "name": "stdout",
          "text": [
            "10\n"
          ]
        }
      ]
    },
    {
      "cell_type": "markdown",
      "source": [
        "#Practical:-"
      ],
      "metadata": {
        "id": "nczq1WKl2HLI"
      }
    },
    {
      "cell_type": "code",
      "source": [
        "#1. Create a parent class Animal with a method speak() that prints a generic message. Create a child class Dog that overrides the speak() method to print \"Bark!\"."
      ],
      "metadata": {
        "id": "Ahm1o-722Z5r"
      },
      "execution_count": 102,
      "outputs": []
    },
    {
      "cell_type": "code",
      "source": [
        "#answer:-\n",
        "# Parent class Animal\n",
        "class Animal:\n",
        "    def speak(self):\n",
        "        print(\"Animal speaks\")\n",
        "\n",
        "# Child class Dog that overrides speak method\n",
        "class Dog(Animal):\n",
        "    def speak(self):\n",
        "        print(\"Bark!\")\n",
        "\n",
        "# Create instances\n",
        "animal = Animal()\n",
        "dog = Dog()\n",
        "\n",
        "# Call the speak method\n",
        "animal.speak()\n",
        "dog.speak()"
      ],
      "metadata": {
        "id": "hVvhbsmh293P",
        "colab": {
          "base_uri": "https://localhost:8080/"
        },
        "outputId": "a81e503a-6d3f-4091-d234-407744439c2e"
      },
      "execution_count": 141,
      "outputs": [
        {
          "output_type": "stream",
          "name": "stdout",
          "text": [
            "Animal speaks\n",
            "Bark!\n"
          ]
        }
      ]
    },
    {
      "cell_type": "code",
      "source": [
        "#2. Write a program to create an abstract class Shape with a method area(). Derive classes Circle and Rectangle from it and implement the area() method in both."
      ],
      "metadata": {
        "id": "ICbswU1a5Dgb"
      },
      "execution_count": 104,
      "outputs": []
    },
    {
      "cell_type": "code",
      "source": [
        "#answer:-\n",
        "from abc import ABC, abstractmethod\n",
        "import math\n",
        "\n",
        "# Abstract class Shape\n",
        "class Shape(ABC):\n",
        "    @abstractmethod\n",
        "    def area(self):\n",
        "        pass\n",
        "\n",
        "# Circle class that inherits from Shape\n",
        "class Circle(Shape):\n",
        "    def __init__(self, radius):\n",
        "        self.radius = radius\n",
        "\n",
        "    def area(self):\n",
        "        return math.pi * (self.radius ** 2)\n",
        "\n",
        "# Rectangle class that inherits from Shape\n",
        "class Rectangle(Shape):\n",
        "    def __init__(self, length, width):\n",
        "        self.length = length\n",
        "        self.width = width\n",
        "\n",
        "    def area(self):\n",
        "        return self.length * self.width\n",
        "\n",
        "# Create objects of Circle and Rectangle\n",
        "circle = Circle(5)\n",
        "rectangle = Rectangle(4, 6)\n",
        "\n",
        "# Print areas\n",
        "print(f\"Area of Circle: {circle.area()}\")\n",
        "print(f\"Area of Rectangle: {rectangle.area()}\")\n"
      ],
      "metadata": {
        "id": "WEOpoFiV5LPi",
        "colab": {
          "base_uri": "https://localhost:8080/"
        },
        "outputId": "bb80f23e-cc57-4a56-b116-cdd0bf061d56"
      },
      "execution_count": 142,
      "outputs": [
        {
          "output_type": "stream",
          "name": "stdout",
          "text": [
            "Area of Circle: 78.53981633974483\n",
            "Area of Rectangle: 24\n"
          ]
        }
      ]
    },
    {
      "cell_type": "code",
      "source": [
        "#3. Implement a multi-level inheritance scenario where a class Vehicle has an attribute type. Derive a class Car and further derive a class ElectricCar that adds a battery attribute."
      ],
      "metadata": {
        "id": "mDhg2QO75TqX"
      },
      "execution_count": 106,
      "outputs": []
    },
    {
      "cell_type": "code",
      "source": [
        "#answer:-\n",
        "# Base class Vehicle\n",
        "class Vehicle:\n",
        "    def __init__(self, type):\n",
        "        self.type = type\n",
        "\n",
        "    def display_type(self):\n",
        "        print(f\"This is a {self.type} vehicle.\")\n",
        "\n",
        "# Derived class Car that inherits from Vehicle\n",
        "class Car(Vehicle):\n",
        "    def __init__(self, type, model):\n",
        "        super().__init__(type)  # Call the constructor of Vehicle\n",
        "        self.model = model\n",
        "\n",
        "    def display_model(self):\n",
        "        print(f\"This car is a {self.model}.\")\n",
        "\n",
        "# Further derived class ElectricCar that inherits from Car\n",
        "class ElectricCar(Car):\n",
        "    def __init__(self, type, model, battery_capacity):\n",
        "        super().__init__(type, model)  # Call the constructor of Car\n",
        "        self.battery_capacity = battery_capacity\n",
        "\n",
        "    def display_battery(self):\n",
        "        print(f\"This electric car has a {self.battery_capacity} kWh battery.\")\n",
        "\n",
        "# Creating an ElectricCar object\n",
        "electric_car = ElectricCar(\"Electric\", \"Tesla Model S\", 100)\n",
        "\n",
        "# Displaying attributes\n",
        "electric_car.display_type()\n",
        "electric_car.display_model()\n",
        "electric_car.display_battery()"
      ],
      "metadata": {
        "id": "2-5XzUm26JHT",
        "colab": {
          "base_uri": "https://localhost:8080/"
        },
        "outputId": "8c9b35fb-9f99-4bc4-e737-5ba30b0d95a8"
      },
      "execution_count": 143,
      "outputs": [
        {
          "output_type": "stream",
          "name": "stdout",
          "text": [
            "This is a Electric vehicle.\n",
            "This car is a Tesla Model S.\n",
            "This electric car has a 100 kWh battery.\n"
          ]
        }
      ]
    },
    {
      "cell_type": "code",
      "source": [
        "#4. Implement a multi-level inheritance scenario where a class Vehicle has an attribute type. Derive a class Car and further derive a class ElectricCar that adds a battery attribute."
      ],
      "metadata": {
        "id": "LUGpLnl76N6M"
      },
      "execution_count": 108,
      "outputs": []
    },
    {
      "cell_type": "code",
      "source": [
        "#answer:-\n",
        "# Base class Vehicle\n",
        "class Vehicle:\n",
        "    def __init__(self, type):\n",
        "        self.type = type\n",
        "\n",
        "    def display_type(self):\n",
        "        print(f\"This is a {self.type} vehicle.\")\n",
        "\n",
        "# Derived class Car that inherits from Vehicle\n",
        "class Car(Vehicle):\n",
        "    def __init__(self, type, model):\n",
        "        super().__init__(type)  # Call the constructor of Vehicle\n",
        "        self.model = model\n",
        "\n",
        "    def display_model(self):\n",
        "        print(f\"This car is a {self.model}.\")\n",
        "\n",
        "# Further derived class ElectricCar that inherits from Car\n",
        "class ElectricCar(Car):\n",
        "    def __init__(self, type, model, battery_capacity):\n",
        "        super().__init__(type, model)  # Call the constructor of Car\n",
        "        self.battery_capacity = battery_capacity\n",
        "\n",
        "    def display_battery(self):\n",
        "        print(f\"This electric car has a {self.battery_capacity} kWh battery.\")\n",
        "\n",
        "# Creating an ElectricCar object\n",
        "electric_car = ElectricCar(\"Electric\", \"Tesla Model S\", 100)\n",
        "\n",
        "# Displaying attributes\n",
        "electric_car.display_type()\n",
        "electric_car.display_model()\n",
        "electric_car.display_battery()"
      ],
      "metadata": {
        "id": "RIVCFWgK6TsR",
        "colab": {
          "base_uri": "https://localhost:8080/"
        },
        "outputId": "0bcea3df-59c7-4ed2-9967-d44bd91bf1f3"
      },
      "execution_count": 144,
      "outputs": [
        {
          "output_type": "stream",
          "name": "stdout",
          "text": [
            "This is a Electric vehicle.\n",
            "This car is a Tesla Model S.\n",
            "This electric car has a 100 kWh battery.\n"
          ]
        }
      ]
    },
    {
      "cell_type": "code",
      "source": [
        "#5.  Write a program to demonstrate encapsulation by creating a class BankAccount with private attributes balance and methods to deposit, withdraw, and check balance."
      ],
      "metadata": {
        "id": "jUw9ITzF6Xzf"
      },
      "execution_count": 110,
      "outputs": []
    },
    {
      "cell_type": "code",
      "source": [
        "#answer:-\n",
        "class BankAccount:\n",
        "    def __init__(self, initial_balance=0):\n",
        "        # Private attribute\n",
        "        self.__balance = initial_balance\n",
        "\n",
        "    # Public method to deposit money\n",
        "    def deposit(self, amount):\n",
        "        if amount > 0:\n",
        "            self.__balance += amount\n",
        "            print(f\"Deposited {amount}. New balance: {self.__balance}\")\n",
        "        else:\n",
        "            print(\"Deposit amount must be positive.\")\n",
        "\n",
        "    # Public method to withdraw money\n",
        "    def withdraw(self, amount):\n",
        "        if amount > 0 and amount <= self.__balance:\n",
        "            self.__balance -= amount\n",
        "            print(f\"Withdrew {amount}. New balance: {self.__balance}\")\n",
        "        else:\n",
        "            print(\"Insufficient balance or invalid withdrawal amount.\")\n",
        "\n",
        "    # Public method to check balance\n",
        "    def check_balance(self):\n",
        "        print(f\"Current balance: {self.__balance}\")\n",
        "\n",
        "# Create a BankAccount object\n",
        "account = BankAccount(1000)\n",
        "\n",
        "# Perform operations\n",
        "account.deposit(500)      # Deposits 500\n",
        "account.withdraw(200)     # Withdraws 200\n",
        "account.check_balance()   # Shows current balance\n",
        "\n",
        "# Trying to directly access the private attribute (will raise an error)\n",
        "# print(account.__balance)  # This will raise an AttributeError\n"
      ],
      "metadata": {
        "id": "LUAcCth76d7j",
        "colab": {
          "base_uri": "https://localhost:8080/"
        },
        "outputId": "923c77a2-2aad-45fe-d178-a6f753e26e5a"
      },
      "execution_count": 111,
      "outputs": [
        {
          "output_type": "stream",
          "name": "stdout",
          "text": [
            "Deposited 500. New balance: 1500\n",
            "Withdrew 200. New balance: 1300\n",
            "Current balance: 1300\n"
          ]
        }
      ]
    },
    {
      "cell_type": "code",
      "source": [
        "#6. Demonstrate runtime polymorphism using a method play() in a base class Instrument. Derive classes Guitar and Piano that implement their own version of play()."
      ],
      "metadata": {
        "id": "CqzqK2oH6jCa"
      },
      "execution_count": 111,
      "outputs": []
    },
    {
      "cell_type": "code",
      "source": [
        "#answer:-\n",
        "# Base class Instrument\n",
        "class Instrument:\n",
        "    def play(self):\n",
        "        print(\"Playing an instrument.\")\n",
        "\n",
        "# Derived class Guitar\n",
        "class Guitar(Instrument):\n",
        "    def play(self):\n",
        "        print(\"Strumming the guitar.\")\n",
        "\n",
        "# Derived class Piano\n",
        "class Piano(Instrument):\n",
        "    def play(self):\n",
        "        print(\"Playing the piano.\")\n",
        "\n",
        "# Function to demonstrate runtime polymorphism\n",
        "def play_instrument(instrument):\n",
        "    instrument.play()\n",
        "\n",
        "# Creating instances of Guitar and Piano\n",
        "guitar = Guitar()\n",
        "piano = Piano()\n",
        "\n",
        "# Call play_instrument with different objects\n",
        "play_instrument(guitar)\n",
        "play_instrument(piano)"
      ],
      "metadata": {
        "colab": {
          "base_uri": "https://localhost:8080/"
        },
        "id": "ByKi4Y7Y83tZ",
        "outputId": "c13c2201-d38f-4313-dd62-74a60b237e18"
      },
      "execution_count": 145,
      "outputs": [
        {
          "output_type": "stream",
          "name": "stdout",
          "text": [
            "Strumming the guitar.\n",
            "Playing the piano.\n"
          ]
        }
      ]
    },
    {
      "cell_type": "code",
      "source": [
        "#7. Create a class MathOperations with a class method add_numbers() to add two numbers and a static method subtract_numbers() to subtract two numbers."
      ],
      "metadata": {
        "id": "isdZ4la_89tv"
      },
      "execution_count": null,
      "outputs": []
    },
    {
      "cell_type": "code",
      "source": [
        "#answer:-\n",
        "class MathOperations:\n",
        "    # Class method to add two numbers\n",
        "    @classmethod\n",
        "    def add_numbers(cls, num1, num2):\n",
        "        return num1 + num2\n",
        "\n",
        "    # Static method to subtract two numbers\n",
        "    @staticmethod\n",
        "    def subtract_numbers(num1, num2):\n",
        "        return num1 - num2\n",
        "\n",
        "# Demonstrate the methods\n",
        "# Using class method to add numbers\n",
        "sum_result = MathOperations.add_numbers(10, 5)\n",
        "print(f\"Sum: {sum_result}\")  # Output: Sum: 15\n",
        "\n",
        "# Using static method to subtract numbers\n",
        "difference_result = MathOperations.subtract_numbers(10, 5)\n",
        "print(f\"Difference: {difference_result}\")\n"
      ],
      "metadata": {
        "colab": {
          "base_uri": "https://localhost:8080/"
        },
        "id": "TBRoTiea9EYc",
        "outputId": "60b04274-b9e0-434e-8bf0-77e892a9da85"
      },
      "execution_count": 146,
      "outputs": [
        {
          "output_type": "stream",
          "name": "stdout",
          "text": [
            "Sum: 15\n",
            "Difference: 5\n"
          ]
        }
      ]
    },
    {
      "cell_type": "code",
      "source": [
        "#8.  Implement a class Person with a class method to count the total number of persons created."
      ],
      "metadata": {
        "id": "EO1j6qKv9KKc"
      },
      "execution_count": null,
      "outputs": []
    },
    {
      "cell_type": "code",
      "source": [
        "#answer:-\n",
        "class Person:\n",
        "    # Class variable to track the count of persons\n",
        "    person_count = 0\n",
        "\n",
        "    def __init__(self, name):\n",
        "        self.name = name\n",
        "        # Increment the person count when a new person is created\n",
        "        Person.person_count += 1\n",
        "\n",
        "    # Class method to get the total number of persons\n",
        "    @classmethod\n",
        "    def get_person_count(cls):\n",
        "        return cls.person_count\n",
        "\n",
        "# Creating Person objects\n",
        "person1 = Person(\"Alice\")\n",
        "person2 = Person(\"Bob\")\n",
        "person3 = Person(\"Charlie\")\n",
        "\n",
        "# Geting the total number of persons created\n",
        "print(f\"Total persons created: {Person.get_person_count()}\")\n"
      ],
      "metadata": {
        "colab": {
          "base_uri": "https://localhost:8080/"
        },
        "id": "tUXAOUek9TDa",
        "outputId": "280cc4c2-7f46-4423-e238-fa67d41e655c"
      },
      "execution_count": 115,
      "outputs": [
        {
          "output_type": "stream",
          "name": "stdout",
          "text": [
            "Total persons created: 3\n"
          ]
        }
      ]
    },
    {
      "cell_type": "code",
      "source": [
        "#9.  Write a class Fraction with attributes numerator and denominator. Override the str method to display the fraction as \"numerator/denominator\"."
      ],
      "metadata": {
        "id": "qGnvHA_69WOJ"
      },
      "execution_count": null,
      "outputs": []
    },
    {
      "cell_type": "code",
      "source": [
        "#answer:-\n",
        "class Fraction:\n",
        "    def __init__(self, numerator, denominator):\n",
        "        self.numerator = numerator\n",
        "        self.denominator = denominator\n",
        "\n",
        "    def __str__(self):\n",
        "        return f\"{self.numerator}/{self.denominator}\"\n",
        "\n",
        "# Creating Fraction objects\n",
        "fraction1 = Fraction(3, 4)\n",
        "fraction2 = Fraction(5, 8)\n",
        "\n",
        "# Displaying the fractions\n",
        "print(fraction1)\n",
        "print(fraction2)\n"
      ],
      "metadata": {
        "colab": {
          "base_uri": "https://localhost:8080/"
        },
        "id": "dM7P-zIi9hh8",
        "outputId": "9224f454-29d6-44a0-e68f-a9282469dd4d"
      },
      "execution_count": 116,
      "outputs": [
        {
          "output_type": "stream",
          "name": "stdout",
          "text": [
            "3/4\n",
            "5/8\n"
          ]
        }
      ]
    },
    {
      "cell_type": "code",
      "source": [
        "#10. Demonstrate operator overloading by creating a class Vector and overriding the add method to add two vectors."
      ],
      "metadata": {
        "id": "DbAdW5TI9pwg"
      },
      "execution_count": null,
      "outputs": []
    },
    {
      "cell_type": "code",
      "source": [
        "#answer:-\n",
        "class Vector:\n",
        "    def __init__(self, x, y):\n",
        "        self.x = x\n",
        "        self.y = y\n",
        "\n",
        "    def __add__(self, other):\n",
        "        if isinstance(other, Vector):\n",
        "            return Vector(self.x + other.x, self.y + other.y)\n",
        "        return NotImplemented\n",
        "\n",
        "    def __str__(self):\n",
        "        return f\"Vector({self.x}, {self.y})\"\n",
        "\n",
        "# Creating Vector objects\n",
        "vector1 = Vector(2, 3)\n",
        "vector2 = Vector(4, 5)\n",
        "\n",
        "# Adding two vectors using the overridden + operator\n",
        "result = vector1 + vector2\n",
        "\n",
        "# Displaing the result\n",
        "print(result)\n"
      ],
      "metadata": {
        "colab": {
          "base_uri": "https://localhost:8080/"
        },
        "id": "YSPN_Mzs9wcc",
        "outputId": "b5176cff-156d-4b66-fa9c-db03f8a2e05d"
      },
      "execution_count": 117,
      "outputs": [
        {
          "output_type": "stream",
          "name": "stdout",
          "text": [
            "Vector(6, 8)\n"
          ]
        }
      ]
    },
    {
      "cell_type": "code",
      "source": [
        "#11.  Create a class Person with attributes name and age. Add a method greet() that prints \"Hello, my name is {name} and I am {age} years old."
      ],
      "metadata": {
        "id": "-l_uI6zK93I_"
      },
      "execution_count": null,
      "outputs": []
    },
    {
      "cell_type": "code",
      "source": [
        "#answer:-\n",
        "class Person:\n",
        "    def __init__(self, name, age):\n",
        "        self.name = name\n",
        "        self.age = age\n",
        "\n",
        "    def greet(self):\n",
        "        print(f\"Hello, my name is {self.name} and I am {self.age} years old.\")\n",
        "\n",
        "# Creating a Person object\n",
        "person = Person(\"Mantasha\", 22)\n",
        "\n",
        "# Calling the greet method\n",
        "person.greet()\n"
      ],
      "metadata": {
        "colab": {
          "base_uri": "https://localhost:8080/"
        },
        "id": "a4HgepCq97TB",
        "outputId": "def19262-d6fb-43cd-ddcd-169c4e342524"
      },
      "execution_count": 119,
      "outputs": [
        {
          "output_type": "stream",
          "name": "stdout",
          "text": [
            "Hello, my name is Mantasha and I am 22 years old.\n"
          ]
        }
      ]
    },
    {
      "cell_type": "code",
      "source": [
        "#12.  Implement a class Student with attributes name and grades. Create a method average_grade() to compute the average of the grades."
      ],
      "metadata": {
        "id": "NaSYCDP4-D3I"
      },
      "execution_count": null,
      "outputs": []
    },
    {
      "cell_type": "code",
      "source": [
        "#answer:-\n",
        "class Student:\n",
        "    def __init__(self, name, grades):\n",
        "        self.name = name\n",
        "        self.grades = grades\n",
        "\n",
        "    def average_grade(self):\n",
        "        if self.grades:\n",
        "            return sum(self.grades) / len(self.grades)\n",
        "        return 0\n",
        "\n",
        "# Creating a Student object\n",
        "student = Student(\"Mantasha\", [95, 80, 98, 82])\n",
        "\n",
        "# Calculating and displaying the average grade\n",
        "average = student.average_grade()\n",
        "print(f\"{student.name}'s average grade is {average:.2f}\")\n"
      ],
      "metadata": {
        "colab": {
          "base_uri": "https://localhost:8080/"
        },
        "id": "BwCpXqT7-SYQ",
        "outputId": "b620cf0a-2291-4d7c-c6f0-e0463cbdd5a1"
      },
      "execution_count": 121,
      "outputs": [
        {
          "output_type": "stream",
          "name": "stdout",
          "text": [
            "Mantasha's average grade is 88.75\n"
          ]
        }
      ]
    },
    {
      "cell_type": "code",
      "source": [
        "#13. Create a class Rectangle with methods set_dimensions() to set the dimensions and area() to calculate the area."
      ],
      "metadata": {
        "id": "fPWVsWcc-hfR"
      },
      "execution_count": null,
      "outputs": []
    },
    {
      "cell_type": "code",
      "source": [
        "#answer:-\n",
        "class Rectangle:\n",
        "    def __init__(self):\n",
        "        self.length = 0\n",
        "        self.width = 0\n",
        "\n",
        "    def set_dimensions(self, length, width):\n",
        "        \"\"\"Sets the dimensions of the rectangle.\"\"\"\n",
        "        self.length = length\n",
        "        self.width = width\n",
        "\n",
        "    def area(self):\n",
        "        \"\"\"Calculates and returns the area of the rectangle.\"\"\"\n",
        "        return self.length * self.width\n",
        "\n",
        "# Creating a Rectangle object\n",
        "rectangle = Rectangle()\n",
        "\n",
        "# Setting dimensions\n",
        "rectangle.set_dimensions(6, 20)\n",
        "\n",
        "# Calculating and displaying the area\n",
        "print(f\"The area of the rectangle is {rectangle.area()}\")\n"
      ],
      "metadata": {
        "colab": {
          "base_uri": "https://localhost:8080/"
        },
        "id": "17P-cC51-tAJ",
        "outputId": "54eca4cb-bbbb-49d0-fe55-a55ef0be2f39"
      },
      "execution_count": 123,
      "outputs": [
        {
          "output_type": "stream",
          "name": "stdout",
          "text": [
            "The area of the rectangle is 120\n"
          ]
        }
      ]
    },
    {
      "cell_type": "code",
      "source": [
        "#14.  Create a class Employee with a method calculate_salary() that computes the salary based on hours worked and hourly rate. Create a derived class Manager that adds a bonus to the salary."
      ],
      "metadata": {
        "id": "8hydxhR6-1wy"
      },
      "execution_count": null,
      "outputs": []
    },
    {
      "cell_type": "code",
      "source": [
        "#answer:-\n",
        "class Employee:\n",
        "    def __init__(self, name, hourly_rate):\n",
        "        self.name = name\n",
        "        self.hourly_rate = hourly_rate\n",
        "\n",
        "    def calculate_salary(self, hours_worked):\n",
        "        \"\"\"Calculates the salary based on hours worked and hourly rate.\"\"\"\n",
        "        return self.hourly_rate * hours_worked\n",
        "\n",
        "class Manager(Employee):\n",
        "    def __init__(self, name, hourly_rate, bonus):\n",
        "        super().__init__(name, hourly_rate)\n",
        "        self.bonus = bonus\n",
        "\n",
        "    def calculate_salary(self, hours_worked):\n",
        "        \"\"\"Calculates the salary including the bonus.\"\"\"\n",
        "        base_salary = super().calculate_salary(hours_worked)\n",
        "        return base_salary + self.bonus\n",
        "\n",
        "# Creating an Employee object\n",
        "employee = Employee(\"Rahul\", 20)\n",
        "print(f\"{employee.name}'s salary: ${employee.calculate_salary(40)}\")\n",
        "\n",
        "# Create a Manager object\n",
        "manager = Manager(\"Aldrin\", 30, 500)\n",
        "print(f\"{manager.name}'s salary: ${manager.calculate_salary(40)}\")\n"
      ],
      "metadata": {
        "colab": {
          "base_uri": "https://localhost:8080/"
        },
        "id": "oKHzRnyY_BOI",
        "outputId": "9ebf7e5f-c2e1-4926-9d43-b51c701dd39b"
      },
      "execution_count": 124,
      "outputs": [
        {
          "output_type": "stream",
          "name": "stdout",
          "text": [
            "Rahul's salary: $800\n",
            "Aldrin's salary: $1700\n"
          ]
        }
      ]
    },
    {
      "cell_type": "code",
      "source": [
        "#15. Create a class Product with attributes name, price, and quantity. Implement a method total_price() that calculates the total price of the product."
      ],
      "metadata": {
        "id": "kL5UeRF7_Ogl"
      },
      "execution_count": null,
      "outputs": []
    },
    {
      "cell_type": "code",
      "source": [
        "#answer:-\n",
        "class Product:\n",
        "    def __init__(self, name, price, quantity):\n",
        "        self.name = name\n",
        "        self.price = price\n",
        "        self.quantity = quantity\n",
        "\n",
        "    def total_price(self):\n",
        "        \"\"\"Calculates the total price of the product.\"\"\"\n",
        "        return self.price * self.quantity\n",
        "\n",
        "# Creating a Product object\n",
        "product = Product(\"Computer\", 1000, 3)\n",
        "\n",
        "# Calculating and displaying the total price\n",
        "print(f\"The total price for {product.quantity} {product.name}(s) is ${product.total_price()}\")\n"
      ],
      "metadata": {
        "colab": {
          "base_uri": "https://localhost:8080/"
        },
        "id": "6pc5rfZ__Xta",
        "outputId": "f1033baf-2825-4e65-db61-fb2e0f131a91"
      },
      "execution_count": 125,
      "outputs": [
        {
          "output_type": "stream",
          "name": "stdout",
          "text": [
            "The total price for 3 Computer(s) is $3000\n"
          ]
        }
      ]
    },
    {
      "cell_type": "code",
      "source": [
        "#16.  Create a class Animal with an abstract method sound(). Create two derived classes Cow and Sheep that implement the sound() method."
      ],
      "metadata": {
        "id": "2AUgG-Up_ini"
      },
      "execution_count": null,
      "outputs": []
    },
    {
      "cell_type": "code",
      "source": [
        "#answer:-\n",
        "from abc import ABC, abstractmethod\n",
        "\n",
        "# Abstract base class\n",
        "class Animal(ABC):\n",
        "    @abstractmethod\n",
        "    def sound(self):\n",
        "        \"\"\"Abstract method to be implemented by derived classes.\"\"\"\n",
        "        pass\n",
        "\n",
        "# Derived class Cow\n",
        "class Cow(Animal):\n",
        "    def sound(self):\n",
        "        return \"Moo\"\n",
        "\n",
        "# Derived class Sheep\n",
        "class Sheep(Animal):\n",
        "    def sound(self):\n",
        "        return \"Baa\"\n",
        "\n",
        "# Creating objects of Cow and Sheep\n",
        "cow = Cow()\n",
        "sheep = Sheep()\n",
        "\n",
        "# Print the sounds of the animals\n",
        "print(f\"Cow sound: {cow.sound()}\")\n",
        "print(f\"Sheep sound: {sheep.sound()}\")\n"
      ],
      "metadata": {
        "colab": {
          "base_uri": "https://localhost:8080/"
        },
        "id": "QQvy-MZ2_oMV",
        "outputId": "469b287d-c06c-4954-b35f-ffbfb96d43b2"
      },
      "execution_count": 126,
      "outputs": [
        {
          "output_type": "stream",
          "name": "stdout",
          "text": [
            "Cow sound: Moo\n",
            "Sheep sound: Baa\n"
          ]
        }
      ]
    },
    {
      "cell_type": "code",
      "source": [
        "#17. Create a class Book with attributes title, author, and year_published. Add a method get_book_info() that returns a formatted string with the book's details."
      ],
      "metadata": {
        "id": "3iaHGFpO_xZY"
      },
      "execution_count": null,
      "outputs": []
    },
    {
      "cell_type": "code",
      "source": [
        "#answer:-\n",
        "class Book:\n",
        "    def __init__(self, title, author, year_published):\n",
        "        self.title = title\n",
        "        self.author = author\n",
        "        self.year_published = year_published\n",
        "\n",
        "    def get_book_info(self):\n",
        "        \"\"\"Returns a formatted string with the book's details.\"\"\"\n",
        "        return f\"Title: {self.title}\\nAuthor: {self.author}\\nYear Published: {self.year_published}\"\n",
        "\n",
        "# Creating a Book object\n",
        "book = Book(\"1984\", \"George Orwell\", 1949)\n",
        "\n",
        "# Getring and displayed the book's information\n",
        "print(book.get_book_info())\n"
      ],
      "metadata": {
        "colab": {
          "base_uri": "https://localhost:8080/"
        },
        "id": "kEA0W-7s_5Re",
        "outputId": "5d9052e1-04b4-4717-f433-9e943bcb72dd"
      },
      "execution_count": 127,
      "outputs": [
        {
          "output_type": "stream",
          "name": "stdout",
          "text": [
            "Title: 1984\n",
            "Author: George Orwell\n",
            "Year Published: 1949\n"
          ]
        }
      ]
    },
    {
      "cell_type": "code",
      "source": [
        "#18.  Create a class House with attributes address and price. Create a derived class Mansion that adds an attribute number_of_rooms."
      ],
      "metadata": {
        "id": "Ly1WFHRvACDy"
      },
      "execution_count": null,
      "outputs": []
    },
    {
      "cell_type": "code",
      "source": [
        "#answer:-\n",
        "class House:\n",
        "    def __init__(self, address, price):\n",
        "        self.address = address\n",
        "        self.price = price\n",
        "\n",
        "    def get_details(self):\n",
        "        \"\"\"Returns the details of the house.\"\"\"\n",
        "        return f\"Address: {self.address}\\nPrice: ${self.price}\"\n",
        "\n",
        "# Derived class Mansion\n",
        "class Mansion(House):\n",
        "    def __init__(self, address, price, number_of_rooms):\n",
        "        super().__init__(address, price)  # Initialize attributes from the base class\n",
        "        self.number_of_rooms = number_of_rooms\n",
        "\n",
        "    def get_details(self):\n",
        "        \"\"\"Returns the details of the mansion including the number of rooms.\"\"\"\n",
        "        house_details = super().get_details()  # Get base class details\n",
        "        return f\"{house_details}\\nNumber of Rooms: {self.number_of_rooms}\"\n",
        "\n",
        "# Creating a House object\n",
        "house = House(\"123 Main St\", 250000)\n",
        "\n",
        "# Create a Mansion object\n",
        "mansion = Mansion(\"456 Luxury Ave\", 5000000, 10)\n",
        "\n",
        "# Display the details\n",
        "print(\"House Details:\")\n",
        "print(house.get_details())\n",
        "\n",
        "print(\"\\nMansion Details:\")\n",
        "print(mansion.get_details())"
      ],
      "metadata": {
        "colab": {
          "base_uri": "https://localhost:8080/"
        },
        "id": "jhZZBe10ALmN",
        "outputId": "6c984c50-3050-4d71-ad36-ec1b53129f2f"
      },
      "execution_count": 128,
      "outputs": [
        {
          "output_type": "stream",
          "name": "stdout",
          "text": [
            "House Details:\n",
            "Address: 123 Main St\n",
            "Price: $250000\n",
            "\n",
            "Mansion Details:\n",
            "Address: 456 Luxury Ave\n",
            "Price: $5000000\n",
            "Number of Rooms: 10\n"
          ]
        }
      ]
    }
  ]
}